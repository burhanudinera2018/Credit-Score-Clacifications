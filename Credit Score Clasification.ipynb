{
 "cells": [
  {
   "cell_type": "markdown",
   "id": "079c4f27",
   "metadata": {},
   "source": [
    "# Credit Score Classification\n"
   ]
  },
  {
   "cell_type": "markdown",
   "id": "12519ab2",
   "metadata": {},
   "source": [
    "+ Company perbankan mengenalkan 3 kategori pelanggan/customers:\n",
    "    + Good \n",
    "    + Standard\n",
    "    + Poor\n",
    "    \n",
    "+ So the task of Credit Score Classification, we need a labelled dataset with that's credit scores."
   ]
  },
  {
   "cell_type": "code",
   "execution_count": null,
   "id": "efc01e64",
   "metadata": {},
   "outputs": [],
   "source": [
    "# Prepare libraries need for analysis\n",
    "import pandas as pd\n",
    "import numpy as np\n",
    "import plotly.express as px\n",
    "import plotly.graph_objects as go\n",
    "import plotly.io as pio\n",
    "pio.templates.default = \"plotly_white\""
   ]
  },
  {
   "cell_type": "code",
   "execution_count": null,
   "id": "75f49f51",
   "metadata": {},
   "outputs": [],
   "source": [
    "data = pd.read_csv('dataset/Credit Score Data/train.csv')\n",
    "\n",
    "print(data.head())"
   ]
  },
  {
   "cell_type": "code",
   "execution_count": null,
   "id": "0475335e",
   "metadata": {},
   "outputs": [],
   "source": [
    "data.info()  # Kita selidiki type data dan izin nullable"
   ]
  },
  {
   "cell_type": "code",
   "execution_count": null,
   "id": "0d28330c",
   "metadata": {},
   "outputs": [],
   "source": [
    "# Setting ukuran grafik yang akan di tampilkan\n",
    "import matplotlib.pyplot as plt  # Untuk menampikan grafik \n",
    "plt.rcParams[\"figure.figsize\"] = (20,6)  "
   ]
  },
  {
   "cell_type": "code",
   "execution_count": null,
   "id": "f1a5d7be",
   "metadata": {},
   "outputs": [],
   "source": [
    "# Selidiki Nullable\n",
    "print(data.isnull().sum())"
   ]
  },
  {
   "cell_type": "markdown",
   "id": "48fd1ae6",
   "metadata": {},
   "source": [
    "+ Aman !!! data ndak ada yg null"
   ]
  },
  {
   "cell_type": "code",
   "execution_count": null,
   "id": "17bed203",
   "metadata": {},
   "outputs": [],
   "source": [
    "# Kita intip tampilan kolom 'Credit_Score';\n",
    "data[\"Credit_Score\"].value_counts()"
   ]
  },
  {
   "cell_type": "markdown",
   "id": "fb275996",
   "metadata": {},
   "source": [
    "# Data Explore"
   ]
  },
  {
   "cell_type": "markdown",
   "id": "060f22c9",
   "metadata": {},
   "source": [
    "+ Kita selidiki masing masing feature dari dataset teresebut mana yang membawa pengaruh pada Credit_Score"
   ]
  },
  {
   "cell_type": "code",
   "execution_count": null,
   "id": "83f1baf0",
   "metadata": {},
   "outputs": [],
   "source": [
    "# Kita selidiki feature 'Pekerjaan(Occupation)'\n",
    "\n",
    "fig = px.box(data,\n",
    "                x=\"Occupation\",\n",
    "                color=\"Credit_Score\",\n",
    "                title=\"Credit Score Based on Occupation\",\n",
    "                color_discrete_map={'Poor':'red',\n",
    "                                   'Standard':'brown',\n",
    "                                   'Good':'green'} \n",
    "            )\n",
    "fig.show()"
   ]
  },
  {
   "cell_type": "markdown",
   "id": "4ec5baf8",
   "metadata": {},
   "source": [
    "+ tampak ndak membawa pengaruh fiature 'Occupation'"
   ]
  },
  {
   "cell_type": "code",
   "execution_count": null,
   "id": "d0c029e7",
   "metadata": {},
   "outputs": [],
   "source": [
    "# Kita selidiki feature 'Gaji Tahunan(Annual_Income)'\n",
    "\n",
    "fig = px.box(data, \n",
    "             x=\"Credit_Score\", \n",
    "             y=\"Annual_Income\", \n",
    "             color=\"Credit_Score\",\n",
    "             title=\"Credit Scores Based on Annual Income\", \n",
    "             color_discrete_map={'Poor':'red',\n",
    "                                 'Standard':'brown',\n",
    "                                 'Good':'green'})\n",
    "fig.update_traces(quartilemethod=\"exclusive\")\n",
    "fig.show()"
   ]
  },
  {
   "cell_type": "markdown",
   "id": "63ff930b",
   "metadata": {},
   "source": [
    "+ Menurut visualisasi di atas, semakin banyak penghasilan Anda setiap tahun, semakin baik skor kredit Anda."
   ]
  },
  {
   "cell_type": "code",
   "execution_count": null,
   "id": "4c6816ce",
   "metadata": {},
   "outputs": [],
   "source": [
    "# Tinjauan Credit_Score dari feature gaji bulanan;\n",
    "\n",
    "fig = px.box(data, \n",
    "             x=\"Credit_Score\", \n",
    "             y=\"Monthly_Inhand_Salary\", \n",
    "             color=\"Credit_Score\",\n",
    "             title=\"Credit Scores Based on Monthly Inhand Salary\", \n",
    "             color_discrete_map={'Poor':'red',\n",
    "                                 'Standard':'brown',\n",
    "                                 'Good':'green'})\n",
    "fig.update_traces(quartilemethod=\"exclusive\")\n",
    "fig.show()"
   ]
  },
  {
   "cell_type": "code",
   "execution_count": null,
   "id": "0d2a79d5",
   "metadata": {},
   "outputs": [],
   "source": [
    "# Sekarang mari kita lihat apakah memiliki lebih banyak rekening bank memengaruhi skor kredit atau tidak:\n",
    "\n",
    "fig = px.box(data, \n",
    "             x=\"Credit_Score\", \n",
    "             y=\"Num_Bank_Accounts\", \n",
    "             color=\"Credit_Score\",\n",
    "             title=\"Credit Scores Based on Number of Bank Accounts\", \n",
    "             color_discrete_map={'Poor':'red',\n",
    "                                 'Standard':'brown',\n",
    "                                 'Good':'green'})\n",
    "fig.update_traces(quartilemethod=\"exclusive\")\n",
    "fig.show()"
   ]
  },
  {
   "cell_type": "markdown",
   "id": "e4cad779",
   "metadata": {},
   "source": [
    "+ Mempertahankan lebih dari lima akun tidak baik untuk memiliki skor kredit yang baik. Seseorang harus memiliki 2 – 3 rekening bank saja. Jadi memiliki lebih banyak rekening bank tidak berdampak positif pada skor kredit."
   ]
  },
  {
   "cell_type": "code",
   "execution_count": null,
   "id": "5838c0c3",
   "metadata": {},
   "outputs": [],
   "source": [
    "# Mari kita lihat dampaknya terhadap skor kredit berdasarkan jumlah kartu kredit yang dimiliki:\n",
    "fig = px.box(data, \n",
    "             x=\"Credit_Score\", \n",
    "             y=\"Num_Credit_Card\", \n",
    "             color=\"Credit_Score\",\n",
    "             title=\"Credit Scores Based on Number of Credit cards\", \n",
    "             color_discrete_map={'Poor':'red',\n",
    "                                 'Standard':'brown',\n",
    "                                 'Good':'green'})\n",
    "fig.update_traces(quartilemethod=\"exclusive\")\n",
    "fig.show()"
   ]
  },
  {
   "cell_type": "markdown",
   "id": "064f00a6",
   "metadata": {},
   "source": [
    "+ Memiliki 3 – 5 kartu kredit bagus untuk skor kredit Anda. Sekarang mari kita lihat dampaknya pada skor kredit berdasarkan berapa rata-rata bunga yang Anda bayarkan untuk pinjaman dan EMI"
   ]
  },
  {
   "cell_type": "code",
   "execution_count": null,
   "id": "cf360714",
   "metadata": {},
   "outputs": [],
   "source": [
    "fig = px.box(data, \n",
    "             x=\"Credit_Score\", \n",
    "             y=\"Interest_Rate\", \n",
    "             color=\"Credit_Score\",\n",
    "             title=\"Credit Scores Based on the Average Interest rates\", \n",
    "             color_discrete_map={'Poor':'red',\n",
    "                                 'Standard':'brown',\n",
    "                                 'Good':'green'})\n",
    "fig.update_traces(quartilemethod=\"exclusive\")\n",
    "fig.show()"
   ]
  },
  {
   "cell_type": "markdown",
   "id": "b27fa2ab",
   "metadata": {},
   "source": [
    "+ Jika tingkat bunga rata-rata adalah 4 – 11%, skor kreditnya bagus. Memiliki tingkat bunga rata-rata lebih dari 15% buruk untuk nilai kredit Anda. Sekarang mari kita lihat berapa banyak pinjaman yang dapat Anda ambil sekaligus untuk mendapatkan skor kredit yang baik:"
   ]
  },
  {
   "cell_type": "code",
   "execution_count": null,
   "id": "c82b0e96",
   "metadata": {},
   "outputs": [],
   "source": [
    "fig = px.box(data, \n",
    "             x=\"Credit_Score\", \n",
    "             y=\"Num_of_Loan\", \n",
    "             color=\"Credit_Score\", \n",
    "             title=\"Credit Scores Based on Number of Loans Taken by the Person\",\n",
    "             color_discrete_map={'Poor':'red',\n",
    "                                 'Standard':'brown',\n",
    "                                 'Good':'green'})\n",
    "fig.update_traces(quartilemethod=\"exclusive\")\n",
    "fig.show()"
   ]
  },
  {
   "cell_type": "markdown",
   "id": "ad6b57f0",
   "metadata": {},
   "source": [
    "+ Untuk memiliki skor kredit yang baik, sebaiknya Anda tidak mengambil lebih dari 1 – 3 pinjaman sekaligus. Memiliki lebih dari tiga pinjaman sekaligus akan berdampak negatif terhadap skor kredit Anda. Sekarang mari kita lihat apakah menunda pembayaran pada tanggal jatuh tempo berdampak pada skor kredit Anda atau tidak:"
   ]
  },
  {
   "cell_type": "code",
   "execution_count": null,
   "id": "796b9c81",
   "metadata": {},
   "outputs": [],
   "source": [
    "fig = px.box(data, \n",
    "             x=\"Credit_Score\", \n",
    "             y=\"Delay_from_due_date\", \n",
    "             color=\"Credit_Score\",\n",
    "             title=\"Credit Scores Based on Average Number of Days Delayed for Credit card Payments\", \n",
    "             color_discrete_map={'Poor':'red',\n",
    "                                 'Standard':'brown',\n",
    "                                 'Good':'green'})\n",
    "fig.update_traces(quartilemethod=\"exclusive\")\n",
    "fig.show()"
   ]
  },
  {
   "cell_type": "markdown",
   "id": "d1c53f54",
   "metadata": {},
   "source": [
    "+ Jadi Anda bisa menunda pembayaran kartu kredit Anda 5 – 14 hari dari tanggal jatuh tempo. Menunda pembayaran Anda selama lebih dari 17 hari sejak tanggal jatuh tempo akan berdampak negatif pada skor kredit Anda. Sekarang mari kita lihat apakah sering menunda pembayaran akan berdampak pada skor kredit atau tidak:\n"
   ]
  },
  {
   "cell_type": "code",
   "execution_count": null,
   "id": "739a9488",
   "metadata": {},
   "outputs": [],
   "source": [
    "fig = px.box(data, \n",
    "             x=\"Credit_Score\", \n",
    "             y=\"Num_of_Delayed_Payment\", \n",
    "             color=\"Credit_Score\", \n",
    "             title=\"Credit Scores Based on Number of Delayed Payments\",\n",
    "             color_discrete_map={'Poor':'red',\n",
    "                                 'Standard':'brown',\n",
    "                                 'Good':'green'})\n",
    "fig.update_traces(quartilemethod=\"exclusive\")\n",
    "fig.show()"
   ]
  },
  {
   "cell_type": "markdown",
   "id": "ae181e00",
   "metadata": {},
   "source": [
    "+ Jadi menunda 4 – 12 pembayaran dari tanggal jatuh tempo tidak akan mempengaruhi skor kredit Anda. Tetapi menunda lebih dari 12 pembayaran dari tanggal jatuh tempo akan berdampak negatif pada skor kredit Anda. Sekarang mari kita lihat apakah memiliki lebih banyak utang akan memengaruhi skor kredit atau tidak:"
   ]
  },
  {
   "cell_type": "code",
   "execution_count": null,
   "id": "cdc7396d",
   "metadata": {},
   "outputs": [],
   "source": [
    "fig = px.box(data, \n",
    "             x=\"Credit_Score\", \n",
    "             y=\"Outstanding_Debt\", \n",
    "             color=\"Credit_Score\", \n",
    "             title=\"Credit Scores Based on Outstanding Debt\",\n",
    "             color_discrete_map={'Poor':'red',\n",
    "                                 'Standard':'brown',\n",
    "                                 'Good':'green'})\n",
    "fig.update_traces(quartilemethod=\"exclusive\")\n",
    "fig.show()"
   ]
  },
  {
   "cell_type": "markdown",
   "id": "2df3dc80",
   "metadata": {},
   "source": [
    "+ Utang luar biasa sebesar $380 – $1150 tidak akan memengaruhi nilai kredit Anda. Tetapi selalu memiliki hutang lebih dari $1338 akan mempengaruhi nilai kredit Anda secara negatif. Sekarang mari kita lihat apakah rasio pemanfaatan kredit yang tinggi akan mempengaruhi nilai kredit atau tidak:"
   ]
  },
  {
   "cell_type": "code",
   "execution_count": null,
   "id": "d2bec56b",
   "metadata": {},
   "outputs": [],
   "source": [
    "fig = px.box(data, \n",
    "             x=\"Credit_Score\", \n",
    "             y=\"Credit_Utilization_Ratio\", \n",
    "             color=\"Credit_Score\",\n",
    "             title=\"Credit Scores Based on Credit Utilization Ratio\", \n",
    "             color_discrete_map={'Poor':'red',\n",
    "                                 'Standard':'brown',\n",
    "                                 'Good':'green'})\n",
    "fig.update_traces(quartilemethod=\"exclusive\")\n",
    "fig.show()"
   ]
  },
  {
   "cell_type": "markdown",
   "id": "03b58263",
   "metadata": {},
   "source": [
    "+ Rasio pemanfaatan kredit berarti total hutang Anda dibagi dengan total kredit yang tersedia.  Menurut angka di atas, rasio pemanfaatan kredit Anda tidak mempengaruhi nilai kredit Anda. Sekarang mari kita lihat bagaimana usia riwayat kredit seseorang memengaruhi skor kredit:"
   ]
  },
  {
   "cell_type": "code",
   "execution_count": null,
   "id": "2bbb95f7",
   "metadata": {},
   "outputs": [],
   "source": [
    "fig = px.box(data, \n",
    "             x=\"Credit_Score\", \n",
    "             y=\"Credit_History_Age\", \n",
    "             color=\"Credit_Score\", \n",
    "             title=\"Credit Scores Based on Credit History Age\",\n",
    "             color_discrete_map={'Poor':'red',\n",
    "                                 'Standard':'brown',\n",
    "                                 'Good':'green'})\n",
    "fig.update_traces(quartilemethod=\"exclusive\")\n",
    "fig.show()"
   ]
  },
  {
   "cell_type": "markdown",
   "id": "6234dc75",
   "metadata": {},
   "source": [
    "+ Jadi, memiliki riwayat kredit yang panjang menghasilkan skor kredit yang lebih baik. Sekarang mari kita lihat berapa banyak EMI yang dapat Anda miliki dalam sebulan untuk mendapatkan skor kredit yang bagus:"
   ]
  },
  {
   "cell_type": "code",
   "execution_count": null,
   "id": "c0dbcd76",
   "metadata": {},
   "outputs": [],
   "source": [
    "fig = px.box(data, \n",
    "             x=\"Credit_Score\", \n",
    "             y=\"Total_EMI_per_month\", \n",
    "             color=\"Credit_Score\", \n",
    "             title=\"Credit Scores Based on Total Number of EMIs per Month\",\n",
    "             color_discrete_map={'Poor':'red',\n",
    "                                 'Standard':'brown',\n",
    "                                 'Good':'green'})\n",
    "fig.update_traces(quartilemethod=\"exclusive\")\n",
    "fig.show()"
   ]
  },
  {
   "cell_type": "markdown",
   "id": "72f52383",
   "metadata": {},
   "source": [
    "+ Jumlah EMI yang Anda bayarkan dalam sebulan tidak banyak memengaruhi skor kredit. Sekarang mari kita lihat apakah investasi bulanan Anda memengaruhi skor kredit Anda atau tidak:"
   ]
  },
  {
   "cell_type": "code",
   "execution_count": null,
   "id": "ad4e4b74",
   "metadata": {},
   "outputs": [],
   "source": [
    "fig = px.box(data, \n",
    "             x=\"Credit_Score\", \n",
    "             y=\"Amount_invested_monthly\", \n",
    "             color=\"Credit_Score\", \n",
    "             title=\"Credit Scores Based on Amount Invested Monthly\",\n",
    "             color_discrete_map={'Poor':'red',\n",
    "                                 'Standard':'brown',\n",
    "                                 'Good':'green'})\n",
    "fig.update_traces(quartilemethod=\"exclusive\")\n",
    "fig.show()"
   ]
  },
  {
   "cell_type": "markdown",
   "id": "af9cce98",
   "metadata": {},
   "source": [
    "+ Jumlah uang yang Anda investasikan setiap bulan tidak banyak memengaruhi skor kredit Anda. Sekarang mari kita lihat apakah memiliki jumlah yang rendah di akhir bulan memengaruhi skor kredit atau tidak:"
   ]
  },
  {
   "cell_type": "code",
   "execution_count": null,
   "id": "f6019fb3",
   "metadata": {},
   "outputs": [],
   "source": [
    "fig = px.box(data, \n",
    "             x=\"Credit_Score\", \n",
    "             y=\"Monthly_Balance\", \n",
    "             color=\"Credit_Score\", \n",
    "             title=\"Credit Scores Based on Monthly Balance Left\",\n",
    "             color_discrete_map={'Poor':'red',\n",
    "                                 'Standard':'brown',\n",
    "                                 'Good':'green'})\n",
    "fig.update_traces(quartilemethod=\"exclusive\")\n",
    "fig.show()"
   ]
  },
  {
   "cell_type": "markdown",
   "id": "54c1d78c",
   "metadata": {},
   "source": [
    "+ Jadi, memiliki saldo bulanan yang tinggi di akun Anda di akhir bulan bagus untuk nilai kredit Anda. Saldo bulanan kurang dari $250 buruk untuk skor kredit."
   ]
  },
  {
   "cell_type": "markdown",
   "id": "0f4eff4a",
   "metadata": {},
   "source": [
    "# Model Klasifikasi Angka Kredit"
   ]
  },
  {
   "cell_type": "markdown",
   "id": "29bc84e1",
   "metadata": {},
   "source": [
    "+ Satu lagi fitur penting (Credit Mix) dalam dataset sangat berharga untuk menentukan skor kredit. Fitur campuran kredit menceritakan tentang jenis kredit dan pinjaman yang telah Anda ambil.\n",
    "\n",
    "+ Karena kolom Credit_Mix bersifat kategorikal, saya akan mengubahnya menjadi fitur numerik sehingga kita dapat menggunakannya untuk melatih model Machine Learning untuk tugas klasifikasi nilai kredit:"
   ]
  },
  {
   "cell_type": "code",
   "execution_count": null,
   "id": "0a73ac0b",
   "metadata": {},
   "outputs": [],
   "source": [
    "data[\"Credit_Mix\"] = data[\"Credit_Mix\"].map({\"Standard\": 1, \n",
    "                               \"Good\": 2, \n",
    "                               \"Bad\": 0})"
   ]
  },
  {
   "cell_type": "code",
   "execution_count": null,
   "id": "94952a3e",
   "metadata": {},
   "outputs": [],
   "source": [
    "# Membagi data menjadi fitur dan label dengan memilih fitur yang menurut kami penting untuk model kami:\n",
    "\n",
    "from sklearn.model_selection import train_test_split\n",
    "x = np.array(data[[\"Annual_Income\", \"Monthly_Inhand_Salary\", \n",
    "                   \"Num_Bank_Accounts\", \"Num_Credit_Card\", \n",
    "                   \"Interest_Rate\", \"Num_of_Loan\", \n",
    "                   \"Delay_from_due_date\", \"Num_of_Delayed_Payment\", \n",
    "                   \"Credit_Mix\", \"Outstanding_Debt\", \n",
    "                   \"Credit_History_Age\", \"Monthly_Balance\"]])\n",
    "y = np.array(data[[\"Credit_Score\"]])"
   ]
  },
  {
   "cell_type": "code",
   "execution_count": null,
   "id": "784fd4c9",
   "metadata": {},
   "outputs": [],
   "source": [
    "# Pisahkan data menjadi set pelatihan dan pengujian dan lanjutkan lebih jauh dengan melatih model klasifikasi skor kredit:\n",
    "\n",
    "xtrain, xtest, ytrain, ytest = train_test_split(x, y, \n",
    "                                                    test_size=0.33, \n",
    "                                                    random_state=42)\n",
    "from sklearn.ensemble import RandomForestClassifier\n",
    "model = RandomForestClassifier()\n",
    "model.fit(xtrain, ytrain)"
   ]
  },
  {
   "cell_type": "code",
   "execution_count": null,
   "id": "83ea89e4",
   "metadata": {},
   "outputs": [],
   "source": [
    "print(\"Credit Score Prediction : \")\n",
    "a = float(input(\"Annual Income: \"))\n",
    "b = float(input(\"Monthly Inhand Salary: \"))\n",
    "c = float(input(\"Number of Bank Accounts: \"))\n",
    "d = float(input(\"Number of Credit cards: \"))\n",
    "e = float(input(\"Interest rate: \"))\n",
    "f = float(input(\"Number of Loans: \"))\n",
    "g = float(input(\"Average number of days delayed by the person: \"))\n",
    "h = float(input(\"Number of delayed payments: \"))\n",
    "i = input(\"Credit Mix (Bad: 0, Standard: 1, Good: 3) : \")\n",
    "j = float(input(\"Outstanding Debt: \"))\n",
    "k = float(input(\"Credit History Age: \"))\n",
    "l = float(input(\"Monthly Balance: \"))\n",
    "\n",
    "features = np.array([[a, b, c, d, e, f, g, h, i, j, k, l]])\n",
    "print(\"Predicted Credit Score = \", model.predict(features))"
   ]
  },
  {
   "cell_type": "code",
   "execution_count": null,
   "id": "1f92ea05",
   "metadata": {},
   "outputs": [],
   "source": []
  }
 ],
 "metadata": {
  "kernelspec": {
   "display_name": "Python 3 (ipykernel)",
   "language": "python",
   "name": "python3"
  },
  "language_info": {
   "codemirror_mode": {
    "name": "ipython",
    "version": 3
   },
   "file_extension": ".py",
   "mimetype": "text/x-python",
   "name": "python",
   "nbconvert_exporter": "python",
   "pygments_lexer": "ipython3",
   "version": "3.9.7"
  }
 },
 "nbformat": 4,
 "nbformat_minor": 5
}
